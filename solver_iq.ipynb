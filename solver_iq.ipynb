{
 "cells": [
  {
   "cell_type": "markdown",
   "metadata": {},
   "source": [
    "# Solver Bare Bones IQ\n",
    "**author**: Charles-David Hébert et Alexandre Prémont-Foley\n",
    "\n",
    "**date**:   January 30 2019\n",
    "\n",
    "We will solve the Hubbard Model at half-filling, using the known Hartee approximation for the Green Function.\n",
    "\n",
    "$$ H = \\sum_{ij} t_{ ij} c^\\dagger_i c_j + U \\sum_i n_{i \\uparrow} n_{i \\downarrow} $$ "
   ]
  },
  {
   "cell_type": "markdown",
   "metadata": {},
   "source": [
    "## Mathematical Description\n",
    "\n",
    "The project here is to build a dynamical mean field theory solver. Extensive references exists, a good starting point being: [DMFT, A. Georges](https://journals.aps.org/rmp/abstract/10.1103/RevModPhys.68.13).\n",
    "\n",
    "The basic equations of DMFT are the following (we will stick to two dimensions):\n",
    "\n",
    "### Math description of DMFT\n",
    "\n",
    "\\begin{align}\n",
    "G_{imp}(z) & = \\int \\frac{dk}{(2 \\pi)^2} G_{L}(z, k) \\\\\n",
    "G_{L}(z, k) & = \\bigg[z - \\epsilon(k) - \\Sigma(z) \\bigg]^{-1} \\\\\n",
    "G_{imp}(z) & = \\bigg[z - \\Delta(z) - \\Sigma(z) \\bigg]^{-1} \n",
    "\\end{align}\n",
    "\n",
    "\n",
    "### In words description of DMFT\n",
    "The last three equations are iterated until selfconsistency, let us explain in a bit more detail.\n",
    "\n",
    "#### The impurity solver\n",
    "\n",
    "| Input                                 | output                                   |\n",
    "|---------------------------------------|------------------------------------------|\n",
    "| Hybridization function := $\\Delta(z)$ | Impurity Green function :=  $G_{imp}(z)$ |\n",
    "\n",
    "\n",
    "The Impurity solver's tasks is to compute the Impurity green function $G_{imp}(z)$, with z being a frequency, here a complex frequency, namely a matsubara frequency : $z := i \\omega_n = (2n + 1)\\frac{\\pi}{\\beta} $ .\n",
    "This can be done in mutiple ways, see the above reference.\n",
    "\n",
    "\n",
    "#### The selfconsistency scheme\n",
    "\n",
    "Once the calculation of the impurity green function is done, one must update the hybridization function by using the above equations. Once the new hybridization function has been calculated, we go back to solving the impurity once more. If this is a bit mysterious, don't worry too much, it will get clearer as we progress along.\n",
    "\n",
    "\n",
    "### Picture description of DMFT\n",
    "\n",
    "![SC](images/figsc.png) \n"
   ]
  },
  {
   "cell_type": "markdown",
   "metadata": {},
   "source": [
    "First let us calculate the first moment of the hybridization function;\n",
    "A high frequency expansion of the above equations yields:\n",
    "    \n",
    "\\begin{align}\n",
    "\\Delta(z) & \\lim_{z -> \\infty} = \\frac{\\Delta_1}{z} \\\\\n",
    "\\Delta_1 & =  \\int \\frac{dk}{(2 \\pi)^2} [\\epsilon(k)]^2 - \\Big[ \\int \\frac{dk}{(2 \\pi)^2} \\epsilon(k) \\Big]^2  \\\\\n",
    "\\end{align}\n",
    "\n",
    "Calculating this high-frequency is important will introduce many concepts"
   ]
  },
  {
   "cell_type": "markdown",
   "metadata": {},
   "source": [
    "## Introduction to python and functions"
   ]
  },
  {
   "cell_type": "code",
   "execution_count": 1,
   "metadata": {},
   "outputs": [],
   "source": [
    "import numpy as np\n",
    "from scipy.integrate import dblquad"
   ]
  },
  {
   "cell_type": "code",
   "execution_count": 2,
   "metadata": {},
   "outputs": [],
   "source": [
    "def eps_k(kx: float, ky:float )-> float:\n",
    "    \"\"\"The dispersion relation.\n",
    "\n",
    "    Parameters\n",
    "    ----------\n",
    "    kx : float\n",
    "        The x component of the wave-vector k.\n",
    "    ky : float\n",
    "        The y component of the wave-vector k.\n",
    "\n",
    "    Returns\n",
    "    -------\n",
    "    float\n",
    "        The value of the dispersion relation.\n",
    "    \"\"\"\n",
    "    \n",
    "    return -2.0*(np.cos(kx) + np.cos(ky))"
   ]
  },
  {
   "cell_type": "code",
   "execution_count": 3,
   "metadata": {},
   "outputs": [],
   "source": [
    "def get_hyb_fm()-> float:\n",
    "    # define the limits of the brillouin zone in kx\n",
    "    kx_limit_low = -np.pi\n",
    "    kx_limit_high = np.pi\n",
    "    \n",
    "    # the limits of the brillouin zone in ky need to be function, here inline functions without name,\n",
    "    # also called lambdas\n",
    "    ky_limit_low = lambda kx: -np.pi\n",
    "    ky_limit_high = lambda kx: np.pi\n",
    "    \n",
    "    # dblquad returns a tuple with two elements (result: float, error: float), \n",
    "    # Here, we grab the first element, by indexing with \"[0]\" to get the result.\n",
    "    int_eps_k = dblquad(eps_k, kx_limit_low, kx_limit_high, ky_limit_low, ky_limit_high)[0]\n",
    "    \n",
    "    eps_k_squared = lambda kx, ky: eps_k(kx, ky) * eps_k(kx, ky)\n",
    "    int_eps_k_squared = dblquad(eps_k_squared, kx_limit_low, kx_limit_high, ky_limit_low, ky_limit_high)[0]\n",
    "    \n",
    "    return 1.0/(2.0*np.pi)**2.0*(int_eps_k_squared - int_eps_k)\n",
    "    "
   ]
  },
  {
   "cell_type": "code",
   "execution_count": 4,
   "metadata": {},
   "outputs": [
    {
     "name": "stdout",
     "output_type": "stream",
     "text": [
      "Value of the Hybridization first moment =  3.999999999999999\n"
     ]
    }
   ],
   "source": [
    "print(\"Value of the Hybridization first moment = \", get_hyb_fm())"
   ]
  },
  {
   "cell_type": "markdown",
   "metadata": {},
   "source": [
    "## Introduction to classes"
   ]
  },
  {
   "cell_type": "code",
   "execution_count": 5,
   "metadata": {},
   "outputs": [],
   "source": [
    "# Let us keep the previous elements and define a model class that will be\n",
    "\n",
    "class Model:\n",
    "\n",
    "    def __init__(self, t: float, beta: float, U: float, hyb):\n",
    "        self.t = t # hopping, usaully set to -1.0\n",
    "        self.beta = beta # 1/Temperature\n",
    "        self.U = U # Hubbard interaction\n",
    "        self.hyb = hyb # hybridization\n",
    "        \n",
    "    def eps_k(self, kx: float, ky:float) -> float:\n",
    "        return -2.0*self.t*(np.cos(kx) + np.cos(ky))\n",
    "    \n",
    "        "
   ]
  },
  {
   "cell_type": "code",
   "execution_count": 6,
   "metadata": {},
   "outputs": [],
   "source": [
    "class ImpuritySolver:\n",
    "    \n",
    "    def __init__(self, model: Model):\n",
    "        self.model = model\n",
    "        \n",
    "    def solve(self):\n",
    "        green_impurity = np.zeros(self.model.hyb.shape, dtype=complex)\n",
    "        \n",
    "        # We know the result for the Hartee part of the self-energy:\n",
    "        # Sigma(z) = U/2.0\n",
    "        \n",
    "        self_energy = self.model.U / 2.0 *np.ones(green_impurity.shape, dtype=complex)\n",
    "        \n",
    "        for n in range(green_impurity.shape[0]):\n",
    "            iwn = 1.0j * (2.0 * n + 1.0 ) * np.pi / self.model.beta\n",
    "            \n",
    "            # we index the numpy array with the \"[]\" operator. If the array was two dimensional,\n",
    "            # we could index with two variables.\n",
    "            green_impurity[n] = 1.0/(iwn - self.model.hyb[n] - self_energy[n])\n",
    "        \n",
    "        return green_impurity\n",
    "        \n",
    "    "
   ]
  },
  {
   "cell_type": "code",
   "execution_count": 7,
   "metadata": {},
   "outputs": [],
   "source": [
    "class SelfConsistency:\n",
    "    \n",
    "    def __init__(self, model, green_impurity):\n",
    "        self.model = model\n",
    "        self.green_impurity = green_impurity\n",
    "        \n",
    "        \n",
    "    def green_lattice_scalar_real(self, kx: float, ky:float, self_energy, n: int)->float:\n",
    "        \"\"\" Return the real part of the lattice green function for one frequency (scalar, not array), \n",
    "            given by the index n. \n",
    "        \"\"\"\n",
    "        \n",
    "        iwn = 1.0j * (2.0 * n + 1.0) * np.pi / self.model.beta\n",
    "        return np.real(1.0/(iwn - self.model.eps_k(kx, ky) - self_energy[n]))\n",
    "    \n",
    "    \n",
    "    def green_lattice_scalar_imag(self, kx:float, ky:float, self_energy, n:int)->float:\n",
    "        \"\"\" Return the imaginary part of the lattice green function for one frequency (scalar, not array), \n",
    "            given by the index n. \n",
    "        \"\"\"\n",
    "        \n",
    "        iwn = 1.0j * (2.0 * n + 1.0) * np.pi / self.model.beta\n",
    "        return np.imag(1.0/(iwn - self.model.eps_k(kx, ky) - self_energy[n]))\n",
    "    \n",
    "    \n",
    "    def run_selfconsistency(self):\n",
    "        \n",
    "        # 0.) extract the self-energy from the green_impurity\n",
    "        \n",
    "        self_energy = np.zeros(self.green_impurity.shape, dtype=complex)\n",
    "        for n in range(self.green_impurity.shape[0]):\n",
    "            iwn = 1.0j * (2.0 * n + 1.0 ) * np.pi / self.model.beta\n",
    "            self_energy[n] = iwn - self.model.hyb[n] - 1.0/self.green_impurity[n]\n",
    "            \n",
    "        # 1.) Calculate a new green_impurity using the lattice green function\n",
    "        green_impurity_new = np.zeros(self.green_impurity.shape, dtype=complex)\n",
    "        \n",
    "        \n",
    "        kx_limit_low = -np.pi\n",
    "        kx_limit_high = np.pi\n",
    "        ky_limit_low = lambda kx: -np.pi\n",
    "        ky_limit_high = lambda kx: np.pi\n",
    "        \n",
    "        for n in range(green_impurity_new.shape[0]):\n",
    "            green_impurity_new[n] = dblquad(self.green_lattice_scalar_real, kx_limit_low, kx_limit_high, \n",
    "                                            ky_limit_low, ky_limit_high, args=(self_energy, n))[0]\n",
    "            \n",
    "            green_impurity_new[n] += 1.0j*dblquad(self.green_lattice_scalar_imag, kx_limit_low, kx_limit_high, \n",
    "                                            ky_limit_low, ky_limit_high, args=(self_energy, n))[0]\n",
    "            \n",
    "            green_impurity_new[n] /= (2.0*np.pi)**2.0\n",
    "            \n",
    "        \n",
    "        # 2.) extract new hyb\n",
    "        hyb_new = np.zeros(self.green_impurity.shape, dtype=complex)\n",
    "        for n in range(hyb_new.shape[0]):\n",
    "            iwn = 1.0j * (2.0 * n + 1.0 ) * np.pi / self.model.beta\n",
    "            hyb_new[n] = iwn - 1.0/green_impurity_new[n] - self_energy[n]\n",
    "        \n",
    "        \n",
    "        return hyb_new"
   ]
  },
  {
   "cell_type": "code",
   "execution_count": 8,
   "metadata": {},
   "outputs": [],
   "source": [
    "def main():\n",
    "    \n",
    "    # 0.) define the simulation parameters\n",
    "    n_freq: int = 200 # The number of frequencies\n",
    "    t = -1.0\n",
    "    beta = 100.0\n",
    "    U = 0.0\n",
    "    iter_max = 5 # maximum number of iterations\n",
    "    \n",
    "    # initial guess for the hybridization, hmmm. No clue so put it to zero ! \n",
    "    # (Would be better to set the hyb to the first moment calculated above).\n",
    "    \n",
    "    hyb = np.zeros(n_freq, dtype=complex)\n",
    "    \n",
    "    for ii in range(iter_max):\n",
    "        model = Model(t, beta, U, hyb)\n",
    "        impurity_solver = ImpuritySolver(model)\n",
    "        green_impurity = impurity_solver.solve()\n",
    "        selfconsistency = SelfConsistency(model, green_impurity)\n",
    "        hyb = selfconsistency.run_selfconsistency()\n",
    "        print(\".\", end=\"\")\n",
    "    \n",
    "    frequencies = np.array([(2.0*n + 1)*np.pi/beta for n in range(n_freq)])\n",
    "    return (frequencies, hyb)\n"
   ]
  },
  {
   "cell_type": "code",
   "execution_count": 9,
   "metadata": {},
   "outputs": [
    {
     "name": "stdout",
     "output_type": "stream",
     "text": [
      "....."
     ]
    }
   ],
   "source": [
    "frequencies, hyb = main()"
   ]
  },
  {
   "cell_type": "code",
   "execution_count": 10,
   "metadata": {
    "scrolled": true
   },
   "outputs": [
    {
     "data": {
      "image/png": "[encoded data removed]",
      "text/plain": [
       "<Figure size 432x288 with 1 Axes>"
      ]
     },
     "metadata": {
      "needs_background": "light"
     },
     "output_type": "display_data"
    }
   ],
   "source": [
    "import matplotlib.pyplot as plt\n",
    "%matplotlib inline\n",
    "\n",
    "plt.plot(frequencies, hyb.imag, 'b*', label=\"hyb\", markersize=5)\n",
    "plt.plot(frequencies, -4.0/frequencies, 'ro', label=\"hyb_fm\" , linewidth=3)\n",
    "plt.legend()\n",
    "plt.title(\"Imaginary part of Hybridization and the first moment.\")\n",
    "# plt.xlim(80, 120)\n",
    "plt.ylim(-2.0, 0.1);"
   ]
  },
  {
   "cell_type": "code",
   "execution_count": null,
   "metadata": {},
   "outputs": [],
   "source": []
  }
 ],
 "metadata": {
  "kernelspec": {
   "display_name": "Python 3",
   "language": "python",
   "name": "python3"
  },
  "language_info": {
   "codemirror_mode": {
    "name": "ipython",
    "version": 3
   },
   "file_extension": ".py",
   "mimetype": "text/x-python",
   "name": "python",
   "nbconvert_exporter": "python",
   "pygments_lexer": "ipython3",
   "version": "3.6.8"
  }
 },
 "nbformat": 4,
 "nbformat_minor": 2
}
